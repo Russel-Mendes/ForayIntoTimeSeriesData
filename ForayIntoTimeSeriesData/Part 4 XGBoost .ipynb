{
 "cells": [
  {
   "cell_type": "markdown",
   "metadata": {},
   "source": [
    "# Part 4: XGBoost\n",
    "\n",
    "For Part 4 of the Time Series Analysis, this notebook will look at XGBoosting. XGBoost is a type of model that utilizes a forest of decision trees to model data. This type of model is very powerful in modelling data, especially for classification, through the use of gradient boosting. For this notebook, XGBoost will be used for regression. \n",
    "The reference source for this advanced analysis can be found [here](https://towardsdatascience.com/machine-learning-techniques-applied-to-stock-price-prediction-6c1994da8001)"
   ]
  },
  {
   "cell_type": "code",
   "execution_count": 13,
   "metadata": {},
   "outputs": [
    {
     "name": "stdout",
     "output_type": "stream",
     "text": [
      "Path Found\n"
     ]
    }
   ],
   "source": [
    "import matplotlib.pyplot as plt\n",
    "import pandas as pd\n",
    "import os\n",
    "import numpy as np  \n",
    "#I tooke the appl stock data and moved it into a more convient file location\n",
    "pathToData = \"StockData\\AppleStock.txt\"\n",
    "\n",
    "#Check if there is a valid file in directory\n",
    "if(os.path.isfile(pathToData)):\n",
    "    print(\"Path Found\")\n",
    "    data = pd.read_csv(pathToData, sep=\",\")\n",
    "else:\n",
    "    print(\"Path Not Found\")"
   ]
  },
  {
   "cell_type": "code",
   "execution_count": 14,
   "metadata": {},
   "outputs": [],
   "source": [
    "def get_moving_average_metrics(y_pred, y_true, MAE = True, MSE = True,Root_MSE = True):\n",
    "    \"\"\"\n",
    "    Given a set of real and predicted data points, derive the common metrics of \n",
    "    Mean Absolute Error, Mean Square Erro, and Root Mean Square Error\n",
    "    Params:\n",
    "        y_pred   : predicted values\n",
    "        y_true   : real data values\n",
    "        MAE      : true or false to find MAE\n",
    "        MSE      : true or false to find MSE\n",
    "        Root_MSE : true or false to find Root_MSE\n",
    "    \"\"\"\n",
    "    mae = 0.0\n",
    "    if MAE:\n",
    "        diff = 0\n",
    "        for i in range(len(y_pred)):\n",
    "            diff += abs(y_true[i] - y_pred[i])\n",
    "        \n",
    "        mae = diff / len(y_pred) \n",
    "    mse = 0.0\n",
    "    if MSE: \n",
    "        diff = 0\n",
    "        for i in range(len(y_pred)):\n",
    "            diff += (y_true[i] - y_pred[i])**2\n",
    "        mse = diff / len(y_pred)\n",
    "    root_mse = 0.0\n",
    "    if Root_MSE:\n",
    "        diff = 0\n",
    "        for i in range(len(y_pred)):\n",
    "            diff += (y_true[i] - y_pred[i])**2\n",
    "        root_mse = (diff / len(y_pred)) ** .5\n",
    "    \n",
    "    return mae, mse, root_mse"
   ]
  },
  {
   "cell_type": "code",
   "execution_count": 15,
   "metadata": {},
   "outputs": [
    {
     "name": "stdout",
     "output_type": "stream",
     "text": [
      "8364\n"
     ]
    }
   ],
   "source": [
    "datesData = data[\"Date\"].tolist()\n",
    "openPriceData = data[\"Open\"].tolist() \n",
    "closePricedata = data[\"Close\"].tolist()\n",
    "\n",
    "print(len(datesData))\n",
    "frontSlice = 8364 - 3650\n",
    "endSlice = 8364\n",
    "trimDatesData = datesData[frontSlice:endSlice]\n",
    "trimOpenPriceData = openPriceData[frontSlice:endSlice]\n",
    "trimClosePriceData = closePricedata[frontSlice:endSlice]"
   ]
  },
  {
   "cell_type": "code",
   "execution_count": 16,
   "metadata": {},
   "outputs": [],
   "source": [
    "#The Dates are in the in a string format. For a linear regression analysis,\n",
    "#the dates need to placed into numeric values. We can correspond the dates to\n",
    "#numbers from 0 - endDate\n",
    "numericDatesData = []\n",
    "for i in range(len(trimDatesData)):\n",
    "    numericDatesData.append([i])\n",
    "numericDatesData = np.array(numericDatesData)"
   ]
  },
  {
   "cell_type": "code",
   "execution_count": 22,
   "metadata": {},
   "outputs": [],
   "source": [
    "import xgboost as xgb\n",
    "def create_XGBoost(model_seed = 0, \n",
    "                   n_tree_estimators = 100,\n",
    "                   max_tree_depth = 3, \n",
    "                   learning_rate = .1, \n",
    "                   min_child_weight = 1, \n",
    "                   subsample=1,\n",
    "                   colsample_bytree=1,\n",
    "                   colsample_bylevel=1,\n",
    "                   gamma = 0):\n",
    "    \"\"\"\n",
    "    Create a XGboost model with the given simplified parameters\n",
    "    Params:\n",
    "        model_seed        : the seed for the model\n",
    "        n_tree_estimators : the number of trees in the XG forest\n",
    "        max_tree_depth    : the maximum depth of a given tree\n",
    "        learning_rate     : the rate the model updates\n",
    "        min_child_weight  : the minimum wieght that a given tree will have\n",
    "        gamma             : minimum loss required before update occurs\n",
    "    Returns:\n",
    "        model : an XGboost model\n",
    "    \"\"\"\n",
    "    \n",
    "    model = xgb.XGBRegressor(seed = model_seed,\n",
    "                         n_estimators = n_tree_estimators,\n",
    "                         max_depth = max_tree_depth,\n",
    "                         learning_rate = learning_rate,\n",
    "                         min_child_weight = min_child_weight,\n",
    "                         subsample=1,\n",
    "                         colsample_bytree=1,\n",
    "                         colsample_bylevel=1,\n",
    "                         objective = \"reg:squarederror\",\n",
    "                         gamma = gamma) \n",
    "    return model\n",
    "\n",
    "def generate_preds(x_train, y_train, x_test, model):\n",
    "    \"\"\"\n",
    "    From a given set of training and test data and a model, generate an array \n",
    "    predictions\n",
    "    Params:\n",
    "        x_train : set of x training data\n",
    "        y_train : set of corresponding y data\n",
    "        x_test  : set of x testing data\n",
    "        model   : an XGboost model\n",
    "        Returns:\n",
    "        y_pred : a set of predictions\n",
    "    \"\"\"\n",
    "    model.fit(x_train, y_train)\n",
    "    y_preds = model.predict(x_test)\n",
    "    return y_preds "
   ]
  },
  {
   "cell_type": "code",
   "execution_count": 23,
   "metadata": {},
   "outputs": [
    {
     "name": "stdout",
     "output_type": "stream",
     "text": [
      "Mean Absolute Error: 0.6057277876864388\n",
      "Mean Square Error: 1.2899844184343117\n",
      "Root Mean Square Error: 1.1357748097375253\n"
     ]
    }
   ],
   "source": [
    "x_train, x_test, y_train, y_test = train_test_split(\n",
    "        numericDatesData, trimOpenPriceData, test_size=.2, random_state=0)\n",
    "\n",
    "model = create_XGBoost(model_seed = 0, \n",
    "                   n_tree_estimators = 100,\n",
    "                   max_tree_depth = 30, \n",
    "                   learning_rate = .1, \n",
    "                   min_child_weight = .05, \n",
    "                   gamma = 0.1)\n",
    "y_preds = generate_preds(x_train, y_train, x_test, model)\n",
    "mae, mse, root_mse = get_moving_average_metrics(y_test, y_preds)\n",
    "\n",
    "print(\"Mean Absolute Error:\" , mae)\n",
    "print(\"Mean Square Error:\" , mse)\n",
    "print(\"Root Mean Square Error:\", root_mse)"
   ]
  },
  {
   "cell_type": "code",
   "execution_count": null,
   "metadata": {},
   "outputs": [],
   "source": [
    "print(len(x_train_split))\n",
    "print(len(y_train_split))\n",
    "print(len(x_test_split))\n",
    "print(len(y_test_split))"
   ]
  },
  {
   "cell_type": "code",
   "execution_count": 24,
   "metadata": {},
   "outputs": [
    {
     "data": {
      "image/png": "[encoded data removed]",
      "text/plain": [
       "<Figure size 432x288 with 1 Axes>"
      ]
     },
     "metadata": {
      "needs_background": "light"
     },
     "output_type": "display_data"
    }
   ],
   "source": [
    "fig, ax = plt.subplots()\n",
    "plt.scatter(numericDatesData, trimOpenPriceData, s = 3)\n",
    "plt.scatter(x_test, y_preds, s = 3, color = \"red\")\n",
    "plt.title(\"Apple Stock Open Price From the Last 10 Years\")\n",
    "plt.xlabel(\"Dates\")\n",
    "plt.ylabel(\"Price in USD\")\n",
    "plt.ylim(0, max(trimOpenPriceData) + 10)\n",
    "plt.show()"
   ]
  },
  {
   "cell_type": "code",
   "execution_count": 25,
   "metadata": {},
   "outputs": [
    {
     "name": "stdout",
     "output_type": "stream",
     "text": [
      "Number of Trees: 61\n",
      "Root Mean Square Error: 1.1186374894107498\n"
     ]
    }
   ],
   "source": [
    "#First, finetune the number of tree estimators\n",
    "x_train, x_test, y_train, y_test = train_test_split(\n",
    "        numericDatesData, trimOpenPriceData, test_size=.2, random_state=0)\n",
    "comp_index = []\n",
    "for treeNum in range(200):\n",
    "    model = create_XGBoost(model_seed = 0, \n",
    "                   n_tree_estimators = treeNum,\n",
    "                   max_tree_depth = 30, \n",
    "                   learning_rate = .1, \n",
    "                   min_child_weight = .05, \n",
    "                   gamma = 0.1)\n",
    "    y_preds = generate_preds(x_train, y_train, x_test, model)\n",
    "    mae, mse, root_mse = get_moving_average_metrics(y_test, y_preds)\n",
    "    comp_index.append([treeNum, root_mse])\n",
    "\n",
    "best_index = []\n",
    "best_index = comp_index[0]  \n",
    "for comp in comp_index:\n",
    "    if best_index[1] > comp[1]:\n",
    "        best_index = comp\n",
    "\n",
    "print(\"Number of Trees:\" , best_index[0])\n",
    "print(\"Root Mean Square Error:\", best_index[1])"
   ]
  },
  {
   "cell_type": "code",
   "execution_count": 28,
   "metadata": {},
   "outputs": [],
   "source": [
    "numTrees = []\n",
    "RMSE = []\n",
    "for comp in comp_index:\n",
    "    RMSE.append(comp[1])\n",
    "    numTrees.append(comp[0])"
   ]
  },
  {
   "cell_type": "code",
   "execution_count": 29,
   "metadata": {},
   "outputs": [
    {
     "data": {
      "image/png": "[encoded data removed]",
      "text/plain": [
       "<Figure size 432x288 with 1 Axes>"
      ]
     },
     "metadata": {
      "needs_background": "light"
     },
     "output_type": "display_data"
    }
   ],
   "source": [
    "fig, ax = plt.subplots()\n",
    "plt.scatter(numTrees, RMSE)\n",
    "plt.title(\"Range of Trees vs Root Mean Squared Error\")\n",
    "plt.xlabel(\"Number of Trees\")\n",
    "plt.ylabel(\"Root Mean Squared Error\")\n",
    "plt.show()"
   ]
  },
  {
   "cell_type": "markdown",
   "metadata": {},
   "source": [
    "The number of trees seem to be optimized at 61, and the RMSE converges to a singular value after 50."
   ]
  },
  {
   "cell_type": "code",
   "execution_count": 30,
   "metadata": {},
   "outputs": [
    {
     "name": "stdout",
     "output_type": "stream",
     "text": [
      "Depth: 12\n",
      "Root Mean Square Error: 1.1089568605732354\n"
     ]
    }
   ],
   "source": [
    "#Second, finetune the number of tree depth.\n",
    "#Since we know that number of tree converges, we can choose 61\n",
    "x_train, x_test, y_train, y_test = train_test_split(\n",
    "        numericDatesData, trimOpenPriceData, test_size=.2, random_state=0)\n",
    "comp_index = []\n",
    "for depth in range(200):\n",
    "    model = create_XGBoost(model_seed = 0, \n",
    "                   n_tree_estimators = 61,\n",
    "                   max_tree_depth = depth, \n",
    "                   learning_rate = .1, \n",
    "                   min_child_weight = .05, \n",
    "                   gamma = 0.1)\n",
    "    y_preds = generate_preds(x_train, y_train, x_test, model)\n",
    "    mae, mse, root_mse = get_moving_average_metrics(y_test, y_preds)\n",
    "    comp_index.append([depth, root_mse])\n",
    "\n",
    "best_index = []\n",
    "best_index = comp_index[0]  \n",
    "for comp in comp_index:\n",
    "    if best_index[1] > comp[1]:\n",
    "        best_index = comp\n",
    "\n",
    "print(\"Depth:\" , best_index[0])\n",
    "print(\"Root Mean Square Error:\", best_index[1])"
   ]
  },
  {
   "cell_type": "code",
   "execution_count": 31,
   "metadata": {},
   "outputs": [],
   "source": [
    "tree_depth = []\n",
    "RMSE = []\n",
    "for comp in comp_index:\n",
    "    RMSE.append(comp[1])\n",
    "    tree_depth.append(comp[0])"
   ]
  },
  {
   "cell_type": "code",
   "execution_count": 32,
   "metadata": {},
   "outputs": [
    {
     "data": {
      "image/png": "[encoded data removed]",
      "text/plain": [
       "<Figure size 432x288 with 1 Axes>"
      ]
     },
     "metadata": {
      "needs_background": "light"
     },
     "output_type": "display_data"
    }
   ],
   "source": [
    "fig, ax = plt.subplots()\n",
    "plt.scatter(tree_depth, RMSE)\n",
    "plt.title(\"Depth of Trees vs Root Mean Squared Error\")\n",
    "plt.xlabel(\"Depth\")\n",
    "plt.ylabel(\"Root Mean Squared Error\")\n",
    "plt.show()"
   ]
  },
  {
   "cell_type": "markdown",
   "metadata": {},
   "source": [
    "The number of trees seem to be optimized at 12, and the RMSE converges to a singular value after this value."
   ]
  },
  {
   "cell_type": "code",
   "execution_count": 36,
   "metadata": {},
   "outputs": [
    {
     "name": "stdout",
     "output_type": "stream",
     "text": [
      "Gamma: 0.9\n",
      "Root Mean Square Error: 1.1135004439659684\n"
     ]
    }
   ],
   "source": [
    "#Third, finetune the number of tree depth.\n",
    "#Since we know that number of tree converges, we can choose 61\n",
    "#Since we know that the depth converges at 12, we can hold it\n",
    "x_train, x_test, y_train, y_test = train_test_split(\n",
    "        numericDatesData, trimOpenPriceData, test_size=.2, random_state=0)\n",
    "comp_index = []\n",
    "for gamma in range(10):\n",
    "    val = .1*gamma\n",
    "    model = create_XGBoost(model_seed = 0, \n",
    "                   n_tree_estimators = 61,\n",
    "                   max_tree_depth = depth, \n",
    "                   learning_rate = .1, \n",
    "                   min_child_weight = .05, \n",
    "                   gamma = val)\n",
    "    y_preds = generate_preds(x_train, y_train, x_test, model)\n",
    "    mae, mse, root_mse = get_moving_average_metrics(y_test, y_preds)\n",
    "    comp_index.append([val, root_mse])\n",
    "\n",
    "best_index = []\n",
    "best_index = comp_index[0]  \n",
    "for comp in comp_index:\n",
    "    if best_index[1] > comp[1]:\n",
    "        best_index = comp\n",
    "\n",
    "print(\"Gamma:\" , best_index[0])\n",
    "print(\"Root Mean Square Error:\", best_index[1])"
   ]
  },
  {
   "cell_type": "code",
   "execution_count": 37,
   "metadata": {},
   "outputs": [],
   "source": [
    "Gamma = []\n",
    "RMSE = []\n",
    "for comp in comp_index:\n",
    "    RMSE.append(comp[1])\n",
    "    Gamma.append(comp[0])"
   ]
  },
  {
   "cell_type": "code",
   "execution_count": 38,
   "metadata": {},
   "outputs": [
    {
     "data": {
      "image/png": "[encoded data removed]",
      "text/plain": [
       "<Figure size 432x288 with 1 Axes>"
      ]
     },
     "metadata": {
      "needs_background": "light"
     },
     "output_type": "display_data"
    }
   ],
   "source": [
    "fig, ax = plt.subplots()\n",
    "plt.scatter(Gamma, RMSE)\n",
    "plt.title(\"Gamma vs Root Mean Squared Error\")\n",
    "plt.xlabel(\"Gamma\")\n",
    "plt.ylabel(\"Root Mean Squared Error\")\n",
    "plt.show()"
   ]
  },
  {
   "cell_type": "markdown",
   "metadata": {},
   "source": [
    "The number of trees seem to be optimized at .4. After this value, gamma starts to osicillate"
   ]
  },
  {
   "cell_type": "code",
   "execution_count": 41,
   "metadata": {},
   "outputs": [
    {
     "name": "stdout",
     "output_type": "stream",
     "text": [
      "Gamma: 0.3\n",
      "Tree Depth: 13\n",
      "Tree Count: 65\n",
      "Root Mean Square Error: 1.1097621612365764\n"
     ]
    }
   ],
   "source": [
    "#Since we did a peliminary check on three hyperparameters. We can concentrate\n",
    "#the values around the optimized values above. \n",
    "# Gamma will range around .3 to .5 \n",
    "# Depth will range around 10 to 15\n",
    "# Num of Trees will range 55 to 65\n",
    "x_train, x_test, y_train, y_test = train_test_split(\n",
    "        numericDatesData, trimOpenPriceData, test_size=.2, random_state=0)\n",
    "gamma = [.3,.4,.5]\n",
    "depth = [10,11,12,13,14,15]\n",
    "numTrees = [55,56,57,58,58,59,60,61,62,63,64,65]\n",
    "comp_index = []\n",
    "for gam in gamma:\n",
    "    for mdepth in depth:\n",
    "        for treeCount in numTrees:\n",
    "            model = create_XGBoost(model_seed = 0, \n",
    "                   n_tree_estimators = treeCount,\n",
    "                   max_tree_depth = mdepth, \n",
    "                   learning_rate = .1, \n",
    "                   min_child_weight = .05, \n",
    "                   gamma = gam)\n",
    "            y_preds = generate_preds(x_train, y_train, x_test, model)\n",
    "            mae, mse, root_mse = get_moving_average_metrics(y_test, y_preds)\n",
    "            comp_index.append([root_mse, gam, mdepth, treeCount])\n",
    "\n",
    "best_index = []\n",
    "best_index = comp_index[0]\n",
    "for comp in comp_index:\n",
    "    if best_index[0] > comp[0]:\n",
    "        best_index = comp\n",
    "\n",
    "print(\"Gamma:\" , best_index[1])\n",
    "print(\"Tree Depth:\", best_index[2])\n",
    "print(\"Tree Count:\", best_index[3])\n",
    "print(\"Root Mean Square Error:\", best_index[0])            "
   ]
  },
  {
   "cell_type": "code",
   "execution_count": 42,
   "metadata": {},
   "outputs": [
    {
     "data": {
      "image/png": "[encoded data removed]",
      "text/plain": [
       "<Figure size 432x288 with 1 Axes>"
      ]
     },
     "metadata": {
      "needs_background": "light"
     },
     "output_type": "display_data"
    }
   ],
   "source": [
    "#Thus we have the final model with the best params above\n",
    "TREE_COUNT = 65\n",
    "TREE_DEPTH = 13\n",
    "GAMMA = .3\n",
    "\n",
    "x_train, x_test, y_train, y_test = train_test_split(\n",
    "        numericDatesData, trimOpenPriceData, test_size=.2, random_state=0)\n",
    "model = create_XGBoost(model_seed = 0, \n",
    "                   n_tree_estimators = TREE_COUNT,\n",
    "                   max_tree_depth = TREE_DEPTH, \n",
    "                   learning_rate = .1, \n",
    "                   min_child_weight = .05, \n",
    "                   gamma = GAMMA)\n",
    "y_preds = generate_preds(x_train, y_train, x_test, model)\n",
    "\n",
    "\n",
    "fig, ax = plt.subplots()\n",
    "plt.scatter(numericDatesData, trimOpenPriceData, s = 3)\n",
    "plt.scatter(x_test, y_preds, s = 3, color = \"red\")\n",
    "plt.title(\"Apple Stock Open Price From the Last 10 Years\")\n",
    "plt.xlabel(\"Dates\")\n",
    "plt.ylabel(\"Price in USD\")\n",
    "plt.ylim(0, max(trimOpenPriceData) + 10)\n",
    "plt.show()"
   ]
  },
  {
   "cell_type": "markdown",
   "metadata": {},
   "source": [
    "There is still are still limitations with the XGboost model. This model is based on a forest of desicion tree. As such, this model has a strong ability to determine the classification and regression of the dataset. However, the decision tree converges to a value after a certain threshold is past. This is due the decision forest gives the same values after the maximum of its dataset. "
   ]
  }
 ],
 "metadata": {
  "kernelspec": {
   "display_name": "Python 3",
   "language": "python",
   "name": "python3"
  },
  "language_info": {
   "codemirror_mode": {
    "name": "ipython",
    "version": 3
   },
   "file_extension": ".py",
   "mimetype": "text/x-python",
   "name": "python",
   "nbconvert_exporter": "python",
   "pygments_lexer": "ipython3",
   "version": "3.7.4"
  }
 },
 "nbformat": 4,
 "nbformat_minor": 2
}
