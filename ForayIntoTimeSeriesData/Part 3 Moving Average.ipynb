{
 "cells": [
  {
   "cell_type": "markdown",
   "metadata": {},
   "source": [
    "# Part 3: Moving Average\n",
    "\n",
    "For Part 3 of the Time Series Analysis, this notebook will look at Moving Average Regression. Unlike normal regression, there is a window parameter where chunks of data are regressed upon. As a result, there are multiple regression lines instead of one. This allows for tighter mapping compared to regular regression. However, this comes at the cost of limited forcasting ability, usually one data point out.  \n",
    "The reference source for this advanced analysis can be found [here](https://towardsdatascience.com/machine-learning-techniques-applied-to-stock-price-prediction-6c1994da8001)"
   ]
  },
  {
   "cell_type": "code",
   "execution_count": 1,
   "metadata": {},
   "outputs": [
    {
     "name": "stdout",
     "output_type": "stream",
     "text": [
      "Path Found\n"
     ]
    }
   ],
   "source": [
    "import matplotlib.pyplot as plt\n",
    "import pandas as pd\n",
    "import os\n",
    "import numpy as np  \n",
    "from sklearn.model_selection import train_test_split \n",
    "from sklearn.linear_model import LinearRegression\n",
    "\n",
    "#I tooke the appl stock data and moved it into a more convient file location\n",
    "pathToData = \"StockData\\AppleStock.txt\"\n",
    "\n",
    "#Check if there is a valid file in directory\n",
    "if(os.path.isfile(pathToData)):\n",
    "    print(\"Path Found\")\n",
    "    data = pd.read_csv(pathToData, sep=\",\")\n",
    "else:\n",
    "    print(\"Path Not Found\")"
   ]
  },
  {
   "cell_type": "code",
   "execution_count": 2,
   "metadata": {},
   "outputs": [
    {
     "name": "stdout",
     "output_type": "stream",
     "text": [
      "8364\n"
     ]
    }
   ],
   "source": [
    "datesData = data[\"Date\"].tolist()\n",
    "openPriceData = data[\"Open\"].tolist() \n",
    "closePricedata = data[\"Close\"].tolist()\n",
    "\n",
    "print(len(datesData))\n",
    "frontSlice = 8364 - 3650\n",
    "endSlice = 8364\n",
    "trimDatesData = datesData[frontSlice:endSlice]\n",
    "trimOpenPriceData = openPriceData[frontSlice:endSlice]\n",
    "trimClosePriceData = closePricedata[frontSlice:endSlice]"
   ]
  },
  {
   "cell_type": "code",
   "execution_count": 3,
   "metadata": {},
   "outputs": [],
   "source": [
    "#The Dates are in the in a string format. For a linear regression analysis,\n",
    "#the dates need to placed into numeric values. We can correspond the dates to\n",
    "#numbers from 0 - endDate\n",
    "numericDatesData = []\n",
    "for i in range(len(trimDatesData)):\n",
    "    numericDatesData.append([i])\n",
    "numericDatesData = np.array(numericDatesData)"
   ]
  },
  {
   "cell_type": "markdown",
   "metadata": {},
   "source": [
    "Since we are trying to utilize Moving Average Regression, we have to make sure which leading power should be used. From 2a, we measured the MAE, MSE, RMSE, and selected the best power. However, this model does not capture future predictions as it is the sum of multiple regression models."
   ]
  },
  {
   "cell_type": "code",
   "execution_count": 4,
   "metadata": {},
   "outputs": [],
   "source": [
    "def get_moving_average_metrics(y_pred, y_true, MAE = True, MSE = True,Root_MSE = True):\n",
    "    \"\"\"\n",
    "    Given a set of real and predicted data points, derive the common metrics of \n",
    "    Mean Absolute Error, Mean Square Erro, and Root Mean Square Error\n",
    "    Params:\n",
    "        y_pred   : predicted values\n",
    "        y_true   : real data values\n",
    "        MAE      : true or false to find MAE\n",
    "        MSE      : true or false to find MSE\n",
    "        Root_MSE : true or false to find Root_MSE\n",
    "    \"\"\"\n",
    "    mae = 0.0\n",
    "    if MAE:\n",
    "        diff = 0\n",
    "        for i in range(len(y_pred)):\n",
    "            diff += abs(y_true[i] - y_pred[i])\n",
    "        \n",
    "        mae = diff / len(y_pred) \n",
    "    mse = 0.0\n",
    "    if MSE: \n",
    "        diff = 0\n",
    "        for i in range(len(y_pred)):\n",
    "            diff += (y_true[i] - y_pred[i])**2\n",
    "        mse = diff / len(y_pred)\n",
    "    root_mse = 0.0\n",
    "    if Root_MSE:\n",
    "        diff = 0\n",
    "        for i in range(len(y_pred)):\n",
    "            diff += (y_true[i] - y_pred[i])**2\n",
    "        root_mse = (diff / len(y_pred)) ** .5\n",
    "    \n",
    "    return mae, mse, root_mse"
   ]
  },
  {
   "cell_type": "code",
   "execution_count": 5,
   "metadata": {},
   "outputs": [],
   "source": [
    "import numpy as np\n",
    "from sklearn.preprocessing import PolynomialFeatures\n",
    "from sklearn.linear_model import LinearRegression\n",
    "\n",
    "def get_pred_poly_reg(x_data, y_data, split, power, movingWindow, Print = True):\n",
    "    \"\"\"\n",
    "    Given a set of x and y points, get a set of prediction points\n",
    "    Params:\n",
    "        x_data        : a set of points      \n",
    "        y_data        : data corresponding to x points\n",
    "        split         : the ratio to split x,y data\n",
    "        power         : power of the polynomial regression\n",
    "        movingWindow  : a chunk of data that the model will be trained on\n",
    "    Returns:\n",
    "        cont_y_pred   : the predictions based on the split data\n",
    "        cont_x_pred   : the corresponding predictions x data \n",
    "        cont_x_test   : continous test x data points \n",
    "        cont_y_test   : continous test y data points\n",
    "    \"\"\"\n",
    "    beg_index = 0\n",
    "    end_index = movingWindow\n",
    "    frameChunk = int(len(numericDatesData)/movingWindow) #The amount \n",
    "    cont_y_pred = [] # a set of continous datapoints\n",
    "    cont_x_pred = []\n",
    "    cont_x_test = []\n",
    "    cont_y_test = []\n",
    "    \n",
    "    for i in range(frameChunk):\n",
    "        sliced_x_data = x_data[beg_index: end_index] #Taking the slice of the data\n",
    "        sliced_y_data = y_data[beg_index: end_index]\n",
    "    \n",
    "        x_train, x_test, y_train, y_test = train_test_split(\n",
    "        sliced_x_data, sliced_y_data, test_size=split, random_state=0)\n",
    "    \n",
    "        x_polyTrain = PolynomialFeatures(degree = power, include_bias = False).fit_transform(x_train)\n",
    "        x_polyTest = PolynomialFeatures(degree = power, include_bias = False).fit_transform(x_test)\n",
    "        model = LinearRegression().fit(x_polyTrain, y_train)\n",
    "        y_pred = model.predict(x_polyTest)\n",
    "        \n",
    "        for j in range(len(y_pred)):\n",
    "            cont_y_pred.append(y_pred[j])\n",
    "        \n",
    "        for j in range(len(x_test)):\n",
    "            cont_x_pred.append(x_test[j])\n",
    "        \n",
    "        for j in range(len(x_test)):\n",
    "            cont_x_test.append(x_test[j])\n",
    "        \n",
    "        for j in range(len(y_test)):\n",
    "            cont_y_test.append(y_test[j])\n",
    "            \n",
    "        \n",
    "        beg_index += movingWindow\n",
    "        end_index += movingWindow\n",
    "        \n",
    "\n",
    "        \n",
    "    return cont_x_pred, cont_y_pred, cont_x_test, cont_y_test"
   ]
  },
  {
   "cell_type": "code",
   "execution_count": 6,
   "metadata": {},
   "outputs": [
    {
     "name": "stdout",
     "output_type": "stream",
     "text": [
      "Mean Absolute Error: 1.042339221736897\n",
      "Mean Square Error: 2.731683951793594\n",
      "Root Mean Square Error: 1.652780672622231\n"
     ]
    }
   ],
   "source": [
    "#Utilizing the Prior Functions\n",
    "SPLIT = .2           #Split Ratio of the data set \n",
    "MovingWindow = 100   #The Slices of data the model is going to regress on \n",
    "POWER = 44           #The polynomial used to analyze the data\n",
    "\n",
    "cont_x_pred, cont_y_pred, cont_x_test, cont_y_test = get_pred_poly_reg(numericDatesData, trimOpenPriceData, SPLIT, POWER, MovingWindow)\n",
    "\n",
    "mae, mse, root_mse = get_moving_average_metrics(cont_y_pred, cont_y_test)\n",
    "        \n",
    "print(\"Mean Absolute Error:\" , mae)\n",
    "print(\"Mean Square Error:\" , mse)\n",
    "print(\"Root Mean Square Error:\", root_mse)"
   ]
  },
  {
   "cell_type": "code",
   "execution_count": 7,
   "metadata": {},
   "outputs": [
    {
     "data": {
      "image/png": "[encoded data removed]",
      "text/plain": [
       "<Figure size 432x288 with 1 Axes>"
      ]
     },
     "metadata": {
      "needs_background": "light"
     },
     "output_type": "display_data"
    }
   ],
   "source": [
    "fig, ax = plt.subplots()\n",
    "plt.scatter(numericDatesData, trimOpenPriceData, s = 3)\n",
    "plt.scatter(cont_x_pred, cont_y_pred, s = 3, color = \"red\")\n",
    "plt.title(\"Apple Stock Open Price From the Last 10 Years\")\n",
    "plt.xlabel(\"Dates\")\n",
    "plt.ylabel(\"Price in USD\")\n",
    "plt.ylim(0, max(trimOpenPriceData) + 10)\n",
    "plt.show()\n"
   ]
  },
  {
   "cell_type": "markdown",
   "metadata": {},
   "source": [
    "Like any other model, this model can be finetuned on two parameters: the polynomial and the moving window where the average is sampled."
   ]
  },
  {
   "cell_type": "code",
   "execution_count": 8,
   "metadata": {},
   "outputs": [
    {
     "name": "stderr",
     "output_type": "stream",
     "text": [
      "c:\\users\\russel\\anaconda3\\envs\\tensorflowg\\lib\\site-packages\\numpy\\core\\fromnumeric.py:86: RuntimeWarning: overflow encountered in reduce\n",
      "  return ufunc.reduce(obj, axis, dtype, out, **passkwargs)\n",
      "c:\\users\\russel\\anaconda3\\envs\\tensorflowg\\lib\\site-packages\\numpy\\core\\fromnumeric.py:86: RuntimeWarning: overflow encountered in reduce\n",
      "  return ufunc.reduce(obj, axis, dtype, out, **passkwargs)\n",
      "c:\\users\\russel\\anaconda3\\envs\\tensorflowg\\lib\\site-packages\\numpy\\core\\_methods.py:75: RuntimeWarning: overflow encountered in reduce\n",
      "  ret = umr_sum(arr, axis, dtype, out, keepdims)\n",
      "c:\\users\\russel\\anaconda3\\envs\\tensorflowg\\lib\\site-packages\\numpy\\core\\fromnumeric.py:86: RuntimeWarning: overflow encountered in reduce\n",
      "  return ufunc.reduce(obj, axis, dtype, out, **passkwargs)\n",
      "c:\\users\\russel\\anaconda3\\envs\\tensorflowg\\lib\\site-packages\\numpy\\core\\fromnumeric.py:86: RuntimeWarning: overflow encountered in reduce\n",
      "  return ufunc.reduce(obj, axis, dtype, out, **passkwargs)\n",
      "c:\\users\\russel\\anaconda3\\envs\\tensorflowg\\lib\\site-packages\\numpy\\core\\_methods.py:75: RuntimeWarning: overflow encountered in reduce\n",
      "  ret = umr_sum(arr, axis, dtype, out, keepdims)\n",
      "c:\\users\\russel\\anaconda3\\envs\\tensorflowg\\lib\\site-packages\\numpy\\core\\fromnumeric.py:86: RuntimeWarning: overflow encountered in reduce\n",
      "  return ufunc.reduce(obj, axis, dtype, out, **passkwargs)\n",
      "c:\\users\\russel\\anaconda3\\envs\\tensorflowg\\lib\\site-packages\\numpy\\core\\fromnumeric.py:86: RuntimeWarning: overflow encountered in reduce\n",
      "  return ufunc.reduce(obj, axis, dtype, out, **passkwargs)\n",
      "c:\\users\\russel\\anaconda3\\envs\\tensorflowg\\lib\\site-packages\\numpy\\core\\_methods.py:75: RuntimeWarning: overflow encountered in reduce\n",
      "  ret = umr_sum(arr, axis, dtype, out, keepdims)\n",
      "c:\\users\\russel\\anaconda3\\envs\\tensorflowg\\lib\\site-packages\\numpy\\core\\fromnumeric.py:86: RuntimeWarning: overflow encountered in reduce\n",
      "  return ufunc.reduce(obj, axis, dtype, out, **passkwargs)\n",
      "c:\\users\\russel\\anaconda3\\envs\\tensorflowg\\lib\\site-packages\\numpy\\core\\fromnumeric.py:86: RuntimeWarning: overflow encountered in reduce\n",
      "  return ufunc.reduce(obj, axis, dtype, out, **passkwargs)\n",
      "c:\\users\\russel\\anaconda3\\envs\\tensorflowg\\lib\\site-packages\\numpy\\core\\_methods.py:75: RuntimeWarning: overflow encountered in reduce\n",
      "  ret = umr_sum(arr, axis, dtype, out, keepdims)\n",
      "c:\\users\\russel\\anaconda3\\envs\\tensorflowg\\lib\\site-packages\\numpy\\core\\fromnumeric.py:86: RuntimeWarning: overflow encountered in reduce\n",
      "  return ufunc.reduce(obj, axis, dtype, out, **passkwargs)\n",
      "c:\\users\\russel\\anaconda3\\envs\\tensorflowg\\lib\\site-packages\\numpy\\core\\fromnumeric.py:86: RuntimeWarning: overflow encountered in reduce\n",
      "  return ufunc.reduce(obj, axis, dtype, out, **passkwargs)\n",
      "c:\\users\\russel\\anaconda3\\envs\\tensorflowg\\lib\\site-packages\\numpy\\core\\_methods.py:75: RuntimeWarning: overflow encountered in reduce\n",
      "  ret = umr_sum(arr, axis, dtype, out, keepdims)\n",
      "c:\\users\\russel\\anaconda3\\envs\\tensorflowg\\lib\\site-packages\\numpy\\core\\fromnumeric.py:86: RuntimeWarning: overflow encountered in reduce\n",
      "  return ufunc.reduce(obj, axis, dtype, out, **passkwargs)\n",
      "c:\\users\\russel\\anaconda3\\envs\\tensorflowg\\lib\\site-packages\\numpy\\core\\fromnumeric.py:86: RuntimeWarning: overflow encountered in reduce\n",
      "  return ufunc.reduce(obj, axis, dtype, out, **passkwargs)\n",
      "c:\\users\\russel\\anaconda3\\envs\\tensorflowg\\lib\\site-packages\\numpy\\core\\_methods.py:75: RuntimeWarning: overflow encountered in reduce\n",
      "  ret = umr_sum(arr, axis, dtype, out, keepdims)\n",
      "c:\\users\\russel\\anaconda3\\envs\\tensorflowg\\lib\\site-packages\\numpy\\core\\_methods.py:40: RuntimeWarning: overflow encountered in reduce\n",
      "  return umr_prod(a, axis, dtype, out, keepdims, initial)\n",
      "c:\\users\\russel\\anaconda3\\envs\\tensorflowg\\lib\\site-packages\\numpy\\core\\_methods.py:40: RuntimeWarning: overflow encountered in reduce\n",
      "  return umr_prod(a, axis, dtype, out, keepdims, initial)\n",
      "c:\\users\\russel\\anaconda3\\envs\\tensorflowg\\lib\\site-packages\\numpy\\core\\fromnumeric.py:86: RuntimeWarning: overflow encountered in reduce\n",
      "  return ufunc.reduce(obj, axis, dtype, out, **passkwargs)\n",
      "c:\\users\\russel\\anaconda3\\envs\\tensorflowg\\lib\\site-packages\\numpy\\core\\fromnumeric.py:86: RuntimeWarning: overflow encountered in reduce\n",
      "  return ufunc.reduce(obj, axis, dtype, out, **passkwargs)\n",
      "c:\\users\\russel\\anaconda3\\envs\\tensorflowg\\lib\\site-packages\\numpy\\core\\fromnumeric.py:86: RuntimeWarning: overflow encountered in reduce\n",
      "  return ufunc.reduce(obj, axis, dtype, out, **passkwargs)\n",
      "c:\\users\\russel\\anaconda3\\envs\\tensorflowg\\lib\\site-packages\\numpy\\core\\_methods.py:75: RuntimeWarning: overflow encountered in reduce\n",
      "  ret = umr_sum(arr, axis, dtype, out, keepdims)\n",
      "c:\\users\\russel\\anaconda3\\envs\\tensorflowg\\lib\\site-packages\\numpy\\core\\_methods.py:40: RuntimeWarning: overflow encountered in reduce\n",
      "  return umr_prod(a, axis, dtype, out, keepdims, initial)\n",
      "c:\\users\\russel\\anaconda3\\envs\\tensorflowg\\lib\\site-packages\\numpy\\core\\_methods.py:40: RuntimeWarning: overflow encountered in reduce\n",
      "  return umr_prod(a, axis, dtype, out, keepdims, initial)\n",
      "c:\\users\\russel\\anaconda3\\envs\\tensorflowg\\lib\\site-packages\\numpy\\core\\fromnumeric.py:86: RuntimeWarning: overflow encountered in reduce\n",
      "  return ufunc.reduce(obj, axis, dtype, out, **passkwargs)\n",
      "c:\\users\\russel\\anaconda3\\envs\\tensorflowg\\lib\\site-packages\\numpy\\core\\fromnumeric.py:86: RuntimeWarning: overflow encountered in reduce\n",
      "  return ufunc.reduce(obj, axis, dtype, out, **passkwargs)\n",
      "c:\\users\\russel\\anaconda3\\envs\\tensorflowg\\lib\\site-packages\\numpy\\core\\fromnumeric.py:86: RuntimeWarning: overflow encountered in reduce\n",
      "  return ufunc.reduce(obj, axis, dtype, out, **passkwargs)\n",
      "c:\\users\\russel\\anaconda3\\envs\\tensorflowg\\lib\\site-packages\\numpy\\core\\_methods.py:75: RuntimeWarning: overflow encountered in reduce\n",
      "  ret = umr_sum(arr, axis, dtype, out, keepdims)\n"
     ]
    },
    {
     "name": "stdout",
     "output_type": "stream",
     "text": [
      "Best Index out of 86 is:\n",
      "[64, 1.038700295506288, 2.7177720305757376, 1.6485666594274366]\n"
     ]
    },
    {
     "name": "stderr",
     "output_type": "stream",
     "text": [
      "c:\\users\\russel\\anaconda3\\envs\\tensorflowg\\lib\\site-packages\\numpy\\core\\fromnumeric.py:86: RuntimeWarning: overflow encountered in reduce\n",
      "  return ufunc.reduce(obj, axis, dtype, out, **passkwargs)\n",
      "c:\\users\\russel\\anaconda3\\envs\\tensorflowg\\lib\\site-packages\\numpy\\core\\fromnumeric.py:86: RuntimeWarning: overflow encountered in reduce\n",
      "  return ufunc.reduce(obj, axis, dtype, out, **passkwargs)\n",
      "c:\\users\\russel\\anaconda3\\envs\\tensorflowg\\lib\\site-packages\\numpy\\core\\_methods.py:75: RuntimeWarning: overflow encountered in reduce\n",
      "  ret = umr_sum(arr, axis, dtype, out, keepdims)\n",
      "c:\\users\\russel\\anaconda3\\envs\\tensorflowg\\lib\\site-packages\\numpy\\core\\_methods.py:40: RuntimeWarning: overflow encountered in reduce\n",
      "  return umr_prod(a, axis, dtype, out, keepdims, initial)\n",
      "c:\\users\\russel\\anaconda3\\envs\\tensorflowg\\lib\\site-packages\\numpy\\core\\fromnumeric.py:86: RuntimeWarning: overflow encountered in reduce\n",
      "  return ufunc.reduce(obj, axis, dtype, out, **passkwargs)\n",
      "c:\\users\\russel\\anaconda3\\envs\\tensorflowg\\lib\\site-packages\\numpy\\core\\fromnumeric.py:86: RuntimeWarning: overflow encountered in reduce\n",
      "  return ufunc.reduce(obj, axis, dtype, out, **passkwargs)\n",
      "c:\\users\\russel\\anaconda3\\envs\\tensorflowg\\lib\\site-packages\\numpy\\core\\fromnumeric.py:86: RuntimeWarning: overflow encountered in reduce\n",
      "  return ufunc.reduce(obj, axis, dtype, out, **passkwargs)\n",
      "c:\\users\\russel\\anaconda3\\envs\\tensorflowg\\lib\\site-packages\\numpy\\core\\_methods.py:75: RuntimeWarning: overflow encountered in reduce\n",
      "  ret = umr_sum(arr, axis, dtype, out, keepdims)\n"
     ]
    }
   ],
   "source": [
    "#First, the diminishing nature of polynomial power can be seen through the following\n",
    "SPLIT = .2           #Split Ratio of the data set \n",
    "MovingWindow = 100   #The Slices of data the model is going to regress on \n",
    "comp_index = []\n",
    "for i in range(100):\n",
    "    if i > 0:\n",
    "        try:\n",
    "            cont_x_pred, cont_y_pred, cont_x_test, cont_y_test = get_pred_poly_reg(numericDatesData, trimOpenPriceData, SPLIT, i, MovingWindow)\n",
    "            mae, mse, root_mse = get_moving_average_metrics(cont_y_pred, cont_y_test)\n",
    "            comp_index.append([i, mae, mse, root_mse])\n",
    "        except:\n",
    "            pass\n",
    "index = 0\n",
    "mean_absolute_error = 9999\n",
    "mse = 9999\n",
    "root_mse = 9999\n",
    "best_index = [index, mean_absolute_error, mse, root_mse]\n",
    "for model in comp_index:\n",
    "    if (model[1] < best_index[1] or model[2] < best_index[2] or model[3] < best_index[3]):\n",
    "        best_index = model \n",
    "print(\"Best Index out of\", len(comp_index), \"is:\")\n",
    "print(best_index)    "
   ]
  },
  {
   "cell_type": "code",
   "execution_count": 9,
   "metadata": {},
   "outputs": [],
   "source": [
    "x_power = []\n",
    "MAEData = []\n",
    "MSEData = []\n",
    "RootMSEData = []\n",
    "\n",
    "for model in comp_index:\n",
    "    x_power.append(model[0])\n",
    "    MAEData.append(model[1])\n",
    "    MSEData.append(model[2])\n",
    "    RootMSEData.append(model[3])  "
   ]
  },
  {
   "cell_type": "code",
   "execution_count": 10,
   "metadata": {},
   "outputs": [
    {
     "data": {
      "image/png": "[encoded data removed]",
      "text/plain": [
       "<Figure size 432x288 with 1 Axes>"
      ]
     },
     "metadata": {
      "needs_background": "light"
     },
     "output_type": "display_data"
    }
   ],
   "source": [
    "fig, ax = plt.subplots()\n",
    "plt.scatter(x_power, MAEData)\n",
    "plt.title(\"Power of the Polynomial vs Mean Absolute Error\")\n",
    "plt.xlabel(\"Power of Leading Term\")\n",
    "plt.ylabel(\"Mean Absolute Error\")\n",
    "plt.show()"
   ]
  },
  {
   "cell_type": "code",
   "execution_count": 11,
   "metadata": {},
   "outputs": [
    {
     "data": {
      "image/png": "[encoded data removed]",
      "text/plain": [
       "<Figure size 432x288 with 1 Axes>"
      ]
     },
     "metadata": {
      "needs_background": "light"
     },
     "output_type": "display_data"
    }
   ],
   "source": [
    "fig, ax = plt.subplots()\n",
    "plt.scatter(x_power, MSEData)\n",
    "plt.title(\"Power of the Polynomial vs  Mean Squared Error\")\n",
    "plt.xlabel(\"Power of Leading Term\")\n",
    "plt.ylabel(\"Root Mean Squared Error\")\n",
    "plt.show()"
   ]
  },
  {
   "cell_type": "code",
   "execution_count": 12,
   "metadata": {},
   "outputs": [
    {
     "data": {
      "image/png": "[encoded data removed]",
      "text/plain": [
       "<Figure size 432x288 with 1 Axes>"
      ]
     },
     "metadata": {
      "needs_background": "light"
     },
     "output_type": "display_data"
    }
   ],
   "source": [
    "fig, ax = plt.subplots()\n",
    "plt.scatter(x_power, RootMSEData)\n",
    "plt.title(\"Power of the Polynomial vs Root Mean Squared Error\")\n",
    "plt.xlabel(\"Power of Leading Term\")\n",
    "plt.ylabel(\"Root Mean Squared Error\")\n",
    "plt.show()"
   ]
  },
  {
   "cell_type": "markdown",
   "metadata": {},
   "source": [
    "Note this implies that a Moving Average maps the data very well given the model. If extracts a model at any given polynomial, it will probability gives a good prediction within the x bounds. Outside the dataset, it will fail to capture anything. From the data, the best polynomial to map the data is 64. However, the hyperparameter of moving window needs to be seen. "
   ]
  },
  {
   "cell_type": "code",
   "execution_count": 17,
   "metadata": {},
   "outputs": [
    {
     "name": "stdout",
     "output_type": "stream",
     "text": [
      "Polynomial: 3\n",
      "MovingWindow: 14\n",
      "Root Mean Square Error: 0.8475223934369204\n"
     ]
    }
   ],
   "source": [
    "#Hypertuning on both moving window and polynomial. \n",
    "#Let the moving window range from 1-150\n",
    "#Let the polynomial be 3. Polynomial has a diminishing affect, so 3 is reasonable \n",
    "SPLIT = .2           #Split Ratio of the data set \n",
    "comp_index = []\n",
    "poly = 3\n",
    "for movingWindow in range(100):\n",
    "    if movingWindow > 0:\n",
    "        try:\n",
    "            cont_x_pred, cont_y_pred, cont_x_test, cont_y_test = get_pred_poly_reg(numericDatesData, trimOpenPriceData, \n",
    "                                                                                   SPLIT, poly, movingWindow)                                \n",
    "            mae, mse, root_mse = get_moving_average_metrics(cont_y_pred, cont_y_test)                                                                   \n",
    "            comp_index.append([poly, movingWindow, root_mse])\n",
    "        except:\n",
    "            pass                                                                       \n",
    "            \n",
    "#The best index is the one with the lowest RMSE\n",
    "best_index = []\n",
    "best_index = comp_index[0]\n",
    "for comp in comp_index:\n",
    "    if best_index[2] > comp[2]:\n",
    "        best_index = comp\n",
    "\n",
    "print(\"Polynomial:\" , best_index[0])\n",
    "print(\"MovingWindow:\" , best_index[1])\n",
    "print(\"Root Mean Square Error:\", best_index[2])"
   ]
  },
  {
   "cell_type": "code",
   "execution_count": 22,
   "metadata": {},
   "outputs": [],
   "source": [
    "movingWindows = []\n",
    "RMSE = []\n",
    "for comp in comp_index:\n",
    "    RMSE.append(comp[2])\n",
    "    movingWindows.append(comp[1])"
   ]
  },
  {
   "cell_type": "code",
   "execution_count": 23,
   "metadata": {},
   "outputs": [
    {
     "data": {
      "image/png": "[encoded data removed]",
      "text/plain": [
       "<Figure size 432x288 with 1 Axes>"
      ]
     },
     "metadata": {
      "needs_background": "light"
     },
     "output_type": "display_data"
    }
   ],
   "source": [
    "fig, ax = plt.subplots()\n",
    "plt.scatter(movingWindows, RMSE)\n",
    "plt.title(\"Range of Moving Window vs Root Mean Squared Error\")\n",
    "plt.xlabel(\"Size of Window\")\n",
    "plt.ylabel(\"Root Mean Squared Error\")\n",
    "plt.show()"
   ]
  },
  {
   "cell_type": "markdown",
   "metadata": {},
   "source": [
    "As seen from above, the movingWindow has a profound effect of the RMSE on the model. It can be seen from the results above that a tight window leads to a better RMSE to a certain point."
   ]
  },
  {
   "cell_type": "code",
   "execution_count": 24,
   "metadata": {},
   "outputs": [
    {
     "name": "stdout",
     "output_type": "stream",
     "text": [
      "Mean Absolute Error: 0.5102914577082662\n",
      "Mean Square Error: 0.718294207377046\n",
      "Root Mean Square Error: 0.8475223934369204\n"
     ]
    }
   ],
   "source": [
    "#Utilizing the Prior Functions for best params\n",
    "SPLIT = .2           #Split Ratio of the data set \n",
    "MovingWindow = 14   #The Slices of data the model is going to regress on \n",
    "POWER = 3           #The polynomial used to analyze the data\n",
    "\n",
    "cont_x_pred, cont_y_pred, cont_x_test, cont_y_test = get_pred_poly_reg(numericDatesData, trimOpenPriceData, SPLIT, POWER, MovingWindow)\n",
    "\n",
    "mae, mse, root_mse = get_moving_average_metrics(cont_y_pred, cont_y_test)\n",
    "        \n",
    "print(\"Mean Absolute Error:\" , mae)\n",
    "print(\"Mean Square Error:\" , mse)\n",
    "print(\"Root Mean Square Error:\", root_mse)"
   ]
  },
  {
   "cell_type": "code",
   "execution_count": 25,
   "metadata": {},
   "outputs": [
    {
     "data": {
      "image/png": "[encoded data removed]",
      "text/plain": [
       "<Figure size 432x288 with 1 Axes>"
      ]
     },
     "metadata": {
      "needs_background": "light"
     },
     "output_type": "display_data"
    }
   ],
   "source": [
    "fig, ax = plt.subplots()\n",
    "plt.scatter(numericDatesData, trimOpenPriceData, s = 3)\n",
    "plt.scatter(cont_x_pred, cont_y_pred, s = 3, color = \"red\")\n",
    "plt.title(\"Apple Stock Open Price From the Last 10 Years\")\n",
    "plt.xlabel(\"Dates\")\n",
    "plt.ylabel(\"Price in USD\")\n",
    "plt.ylim(0, max(trimOpenPriceData) + 10)\n",
    "plt.show()\n"
   ]
  }
 ],
 "metadata": {
  "kernelspec": {
   "display_name": "Python 3",
   "language": "python",
   "name": "python3"
  },
  "language_info": {
   "codemirror_mode": {
    "name": "ipython",
    "version": 3
   },
   "file_extension": ".py",
   "mimetype": "text/x-python",
   "name": "python",
   "nbconvert_exporter": "python",
   "pygments_lexer": "ipython3",
   "version": "3.7.4"
  }
 },
 "nbformat": 4,
 "nbformat_minor": 2
}
