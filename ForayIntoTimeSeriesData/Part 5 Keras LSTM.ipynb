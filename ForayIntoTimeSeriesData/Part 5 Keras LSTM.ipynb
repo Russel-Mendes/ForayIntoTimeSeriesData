{
 "cells": [
  {
   "cell_type": "markdown",
   "metadata": {},
   "source": [
    "# Part 5: Keras LSTM\n",
    "\n",
    "One of the last techniques that can be used is machine learning. Through the use of machine learning, the time series data can be modeled very accurately. In addition, the model has capability to predict better the previous techniques. But since there are hundreds of possible varieties, we will choose the LSTM architecture. The reference source for this advanced analysis can be found [here](https://machinelearningmastery.com/time-series-prediction-lstm-recurrent-neural-networks-python-keras/)"
   ]
  },
  {
   "cell_type": "markdown",
   "metadata": {},
   "source": [
    "### Loading and Preparing Data"
   ]
  },
  {
   "cell_type": "code",
   "execution_count": 3,
   "metadata": {},
   "outputs": [
    {
     "name": "stdout",
     "output_type": "stream",
     "text": [
      "Path Found\n"
     ]
    }
   ],
   "source": [
    "import matplotlib.pyplot as plt\n",
    "import pandas as pd\n",
    "import os\n",
    "import numpy as np  \n",
    "from keras.models import Sequential\n",
    "from keras.layers import Dense\n",
    "from keras.layers import LSTM\n",
    "from sklearn.preprocessing import MinMaxScaler\n",
    "\n",
    "#I tooke the appl stock data and moved it into a more convient file location\n",
    "pathToData = \"StockData\\AppleStock.txt\"\n",
    "\n",
    "#Check if there is a valid file in directory\n",
    "if(os.path.isfile(pathToData)):\n",
    "    print(\"Path Found\")\n",
    "    data = pd.read_csv(pathToData, sep=\",\")\n",
    "else:\n",
    "    print(\"Path Not Found\")"
   ]
  },
  {
   "cell_type": "code",
   "execution_count": 4,
   "metadata": {},
   "outputs": [
    {
     "name": "stdout",
     "output_type": "stream",
     "text": [
      "8364\n"
     ]
    }
   ],
   "source": [
    "datesData = data[\"Date\"].tolist()\n",
    "openPriceData = data[\"Open\"].tolist() \n",
    "closePricedata = data[\"Close\"].tolist()\n",
    "\n",
    "print(len(datesData))\n",
    "frontSlice = 8364 - 3650\n",
    "endSlice = 8364\n",
    "trimDatesData = datesData[frontSlice:endSlice]\n",
    "trimOpenPriceData = openPriceData[frontSlice:endSlice]\n",
    "trimClosePriceData = closePricedata[frontSlice:endSlice]"
   ]
  },
  {
   "cell_type": "code",
   "execution_count": 5,
   "metadata": {},
   "outputs": [],
   "source": [
    "#The Dates are in the in a string format. For a linear regression analysis,\n",
    "#the dates need to placed into numeric values. We can correspond the dates to\n",
    "#numbers from 0 - endDate\n",
    "numericDatesData = []\n",
    "for i in range(len(trimDatesData)):\n",
    "    numericDatesData.append([i])\n",
    "numericDatesData = np.array(numericDatesData)"
   ]
  },
  {
   "cell_type": "code",
   "execution_count": 6,
   "metadata": {},
   "outputs": [
    {
     "data": {
      "image/png": "[encoded data removed]",
      "text/plain": [
       "<Figure size 432x288 with 1 Axes>"
      ]
     },
     "metadata": {
      "needs_background": "light"
     },
     "output_type": "display_data"
    }
   ],
   "source": [
    "fig, ax = plt.subplots()\n",
    "plt.scatter(numericDatesData, trimOpenPriceData, s = 3)\n",
    "plt.title(\"Apple Stock Open Price From the Last 10 Years\")\n",
    "plt.xlabel(\"Dates\")\n",
    "plt.ylabel(\"Price in USD\")\n",
    "plt.ylim(0, max(trimOpenPriceData) + 10)\n",
    "plt.show()"
   ]
  },
  {
   "cell_type": "code",
   "execution_count": 7,
   "metadata": {},
   "outputs": [],
   "source": [
    "#We have to convert trimOpenPriceData to a 2d numpy array\n",
    "h_list = []\n",
    "for i in range(len(trimOpenPriceData)):\n",
    "    h_list.append([trimOpenPriceData[i]])\n",
    "trimOpenPriceData = np.array(h_list)"
   ]
  },
  {
   "cell_type": "code",
   "execution_count": 8,
   "metadata": {},
   "outputs": [],
   "source": [
    "#Since LSTMs are sensitive to changes. Large numbers have to be normalized\n",
    "scaler = MinMaxScaler(feature_range=(0, 1))\n",
    "scaled_price_data = scaler.fit_transform(trimOpenPriceData)"
   ]
  },
  {
   "cell_type": "code",
   "execution_count": 9,
   "metadata": {},
   "outputs": [
    {
     "name": "stdout",
     "output_type": "stream",
     "text": [
      "Training Data Points: 2920\n",
      "Testing Data Points: 730\n"
     ]
    }
   ],
   "source": [
    "# split into train and test sets with a  20 / 80 split\n",
    "# Since sequence matters in an LSTM, shuffling the data is not advised\n",
    "SPLIT = .8\n",
    "\n",
    "train_size = int(len(scaled_price_data) * SPLIT)\n",
    "test_size = len(scaled_price_data) - train_size\n",
    "\n",
    "train_data = scaled_price_data[0:train_size,:]\n",
    "test_data = scaled_price_data[train_size:len(scaled_price_data),:]\n",
    "\n",
    "print(\"Training Data Points:\", len(train_data))\n",
    "print(\"Testing Data Points:\", len(test_data))"
   ]
  },
  {
   "cell_type": "code",
   "execution_count": 10,
   "metadata": {},
   "outputs": [],
   "source": [
    "# Convert an array of values into a dataset matrix. This is a 3D matrix that the\n",
    "# LSTM requires to train on. \n",
    "def create_dataset(data, moving_window):\n",
    "    \"\"\"\n",
    "    Params:\n",
    "        data: data that is desired to be split\n",
    "        moving_window: the window of data wanted to look back to predict\n",
    "    Returns:\n",
    "        dataX: a multi-dimensional array of data\n",
    "        dataY: corresponding data for the X units\n",
    "    \"\"\"\n",
    "    dataX, dataY = [], []\n",
    "    for i in range(len(data)-moving_window-1):\n",
    "        a = data[i:(i+moving_window), 0]\n",
    "        dataX.append(a)\n",
    "        dataY.append(data[i + moving_window, 0])\n",
    "    dataX = np.array(dataX)\n",
    "    dataY = np.array(dataY)\n",
    "    return dataX, dataY"
   ]
  },
  {
   "cell_type": "code",
   "execution_count": 11,
   "metadata": {},
   "outputs": [
    {
     "name": "stdout",
     "output_type": "stream",
     "text": [
      "(2918, 1)\n",
      "(2918,)\n",
      "(728, 1)\n",
      "(728,)\n"
     ]
    }
   ],
   "source": [
    "#Creating the X,Y data sets\n",
    "moving_window = 1 #let the model learn from the last 1 data points\n",
    "x_train, y_train = create_dataset(train_data, moving_window)\n",
    "x_test, y_test = create_dataset(test_data, moving_window)\n",
    "\n",
    "print(x_train.shape)\n",
    "print(y_train.shape)\n",
    "print(x_test.shape)\n",
    "print(y_test.shape)"
   ]
  },
  {
   "cell_type": "code",
   "execution_count": 12,
   "metadata": {},
   "outputs": [
    {
     "name": "stdout",
     "output_type": "stream",
     "text": [
      "(2918, 1, 1)\n",
      "(2918,)\n",
      "(728, 1, 1)\n",
      "(728,)\n"
     ]
    }
   ],
   "source": [
    "#LSTM wants data in the format [samples, time steps, features].\n",
    "#Currently, the data is in the format [samples, features]\n",
    "\n",
    "# reshape input to be [samples, time steps, features]\n",
    "x_train = numpy.reshape(x_train, (x_train.shape[0], 1, x_train.shape[1]))\n",
    "x_test = numpy.reshape(x_test, (x_test.shape[0], 1, x_test.shape[1]))\n",
    "\n",
    "print(x_train.shape)\n",
    "print(y_train.shape)\n",
    "print(x_test.shape)\n",
    "print(y_test.shape)"
   ]
  },
  {
   "cell_type": "markdown",
   "metadata": {},
   "source": [
    "### Create and Train the LSTM Model "
   ]
  },
  {
   "cell_type": "code",
   "execution_count": 13,
   "metadata": {},
   "outputs": [
    {
     "name": "stdout",
     "output_type": "stream",
     "text": [
      "Epoch 1/1\n",
      " - 4s - loss: 0.0107\n"
     ]
    },
    {
     "data": {
      "text/plain": [
       "<keras.callbacks.callbacks.History at 0x1efaf8a9088>"
      ]
     },
     "execution_count": 13,
     "metadata": {},
     "output_type": "execute_result"
    }
   ],
   "source": [
    "# create and fit the LSTM network & do a quick epoch check to see a poor model\n",
    "model = Sequential()\n",
    "model.add(LSTM(4, input_shape=(1, moving_window)))\n",
    "model.add(Dense(1))\n",
    "model.compile(loss='mean_squared_error', optimizer='adam')\n",
    "model.fit(x_train, y_train, epochs=1, batch_size=1, verbose=2)"
   ]
  },
  {
   "cell_type": "code",
   "execution_count": 14,
   "metadata": {},
   "outputs": [],
   "source": [
    "# make predictions\n",
    "train_preds = model.predict(x_train)\n",
    "test_preds = model.predict(x_test)\n",
    "# invert predictions. This converts to normal data range\n",
    "train_preds = scaler.inverse_transform(train_preds)\n",
    "y_train = scaler.inverse_transform([y_train])\n",
    "test_preds = scaler.inverse_transform(test_preds)\n",
    "y_test = scaler.inverse_transform([y_test])"
   ]
  },
  {
   "cell_type": "code",
   "execution_count": 15,
   "metadata": {},
   "outputs": [],
   "source": [
    "#join the two prediction into one cohesive unit\n",
    "merge_preds = []\n",
    "for data in train_preds:\n",
    "    merge_preds.append(data)\n",
    "for data in test_preds:\n",
    "    merge_preds.append(data)"
   ]
  },
  {
   "cell_type": "code",
   "execution_count": 16,
   "metadata": {},
   "outputs": [],
   "source": [
    "def get_rmse(preds, actual):\n",
    "    N = len(preds)\n",
    "    sum_diff = 0\n",
    "    for i in range(N):\n",
    "        diff = preds[i]-actual[i]\n",
    "        sum_diff += diff ** 2\n",
    "    sum_diff /= N\n",
    "    RMSE = sum_diff ** .5\n",
    "    return RMSE\n"
   ]
  },
  {
   "cell_type": "code",
   "execution_count": 17,
   "metadata": {},
   "outputs": [],
   "source": [
    "rmse = get_rmse(merge_preds, trimOpenPriceData)"
   ]
  },
  {
   "cell_type": "code",
   "execution_count": 18,
   "metadata": {},
   "outputs": [
    {
     "name": "stdout",
     "output_type": "stream",
     "text": [
      "RMSE: [1.97944959]\n"
     ]
    },
    {
     "data": {
      "image/png": "[encoded data removed]",
      "text/plain": [
       "<Figure size 432x288 with 1 Axes>"
      ]
     },
     "metadata": {
      "needs_background": "light"
     },
     "output_type": "display_data"
    }
   ],
   "source": [
    "print(\"RMSE:\", rmse)\n",
    "fig, ax = plt.subplots()\n",
    "plt.scatter(numericDatesData, trimOpenPriceData, s = 5)\n",
    "plt.plot(merge_preds, color = \"red\" )\n",
    "plt.title(\"Apple Stock Open Price From the Last 10 Years\")\n",
    "plt.xlabel(\"Dates\")\n",
    "plt.ylabel(\"Price in USD\")\n",
    "plt.ylim(0, max(trimOpenPriceData) + 10)\n",
    "plt.show()"
   ]
  },
  {
   "cell_type": "markdown",
   "metadata": {},
   "source": [
    "Like any other model, this LSTM can be hypertuned. Let us focus on the following metrics: epochs, moving_window, "
   ]
  },
  {
   "cell_type": "code",
   "execution_count": 19,
   "metadata": {},
   "outputs": [],
   "source": [
    "#Param tuning: moving_window\n",
    "#Find the rough window of LSTMs for the network\n",
    "\n",
    "def tune_model_moving_window(moving_window):\n",
    "    batch_size = 1\n",
    "    model = Sequential()\n",
    "    model.add(LSTM(4, input_shape=(1, moving_window)))\n",
    "    model.add(Dense(1))\n",
    "\n",
    "    return model "
   ]
  },
  {
   "cell_type": "code",
   "execution_count": 20,
   "metadata": {},
   "outputs": [
    {
     "data": {
      "text/plain": [
       "(2918, 1, 1)"
      ]
     },
     "execution_count": 20,
     "metadata": {},
     "output_type": "execute_result"
    }
   ],
   "source": [
    "x_train.shape"
   ]
  },
  {
   "cell_type": "code",
   "execution_count": null,
   "metadata": {},
   "outputs": [],
   "source": [
    "#Let us tune for the moving_window of somewhere with 25 layers\n",
    "WINDOW_MAX = 25\n",
    "comp_index = []\n",
    "for window in range(WINDOW_MAX):\n",
    "    moving_window = window + 1\n",
    "    print(\"Window Size,\", moving_window)\n",
    "    x_train, y_train = create_dataset(train_data, moving_window)\n",
    "    x_test, y_test = create_dataset(test_data, moving_window)\n",
    "    x_train = numpy.reshape(x_train, (x_train.shape[0], 1, x_train.shape[1]))\n",
    "    x_test = numpy.reshape(x_test, (x_test.shape[0], 1, x_test.shape[1]))\n",
    "    \n",
    "    model = tune_model_moving_window(moving_window)\n",
    "    model.compile(loss='mean_squared_error', optimizer='adam')\n",
    "    model.fit(x_train, y_train, epochs=30, batch_size=1, verbose=2)\n",
    "\n",
    "    train_preds = scaler.inverse_transform(model.predict(x_train))\n",
    "    test_preds = scaler.inverse_transform(model.predict(x_test))\n",
    "    merge_preds = []\n",
    "    \n",
    "    for data in train_preds:\n",
    "        merge_preds.append(data)\n",
    "    for data in test_preds:\n",
    "        merge_preds.append(data)\n",
    "    \n",
    "    rmse = get_rmse(merge_preds, trimOpenPriceData)\n",
    "    comp_index.append([depth, rmse])\n",
    "\n"
   ]
  },
  {
   "cell_type": "code",
   "execution_count": 64,
   "metadata": {},
   "outputs": [
    {
     "name": "stdout",
     "output_type": "stream",
     "text": [
      "With Depth:  1\n",
      "RMSE:  [2.04873899]\n"
     ]
    }
   ],
   "source": [
    "best_index = np.array([])\n",
    "best_index = comp_index[0]\n",
    "for index in comp_index:\n",
    "    if best_index[1] > index[1]:\n",
    "        best_index = index\n",
    "\n",
    "print(\"Window Max: \", best_index[0])\n",
    "print(\"RMSE: \", best_index[1])"
   ]
  },
  {
   "cell_type": "code",
   "execution_count": 68,
   "metadata": {},
   "outputs": [
    {
     "data": {
      "text/plain": [
       "Text(0, 0.5, 'RMSE')"
      ]
     },
     "execution_count": 68,
     "metadata": {},
     "output_type": "execute_result"
    },
    {
     "data": {
      "image/png": "[encoded data removed]",
      "text/plain": [
       "<Figure size 432x288 with 1 Axes>"
      ]
     },
     "metadata": {
      "needs_background": "light"
     },
     "output_type": "display_data"
    }
   ],
   "source": [
    "plt.plot(comp_index)\n",
    "plt.title(\"RMSE vs Window Size\")\n",
    "plt.xlabel(\"Window Size\")\n",
    "plt.ylabel(\"RMSE\")"
   ]
  },
  {
   "cell_type": "code",
   "execution_count": null,
   "metadata": {},
   "outputs": [],
   "source": [
    "#Since we have derived that window size 1 is considered best. Let us tune the n\n",
    "#number of epochs\n",
    "#Let us tune for the moving_window of somewhere with 25 layers\n",
    "EPOCH_MAX = 40\n",
    "moving_window = 1\n",
    "comp_index = []\n",
    "for epoch in range(EPOCH_MAX):\n",
    "    print(\"Epoch:\", epoch)\n",
    "    x_train, y_train = create_dataset(train_data, moving_window)\n",
    "    x_test, y_test = create_dataset(test_data, moving_window)\n",
    "    x_train = numpy.reshape(x_train, (x_train.shape[0], 1, x_train.shape[1]))\n",
    "    x_test = numpy.reshape(x_test, (x_test.shape[0], 1, x_test.shape[1]))\n",
    "    \n",
    "    model = tune_model_moving_window(moving_window)\n",
    "    model.compile(loss='mean_squared_error', optimizer='adam')\n",
    "    model.fit(x_train, y_train, epochs=epoch, batch_size=1, verbose=2)\n",
    "\n",
    "    train_preds = scaler.inverse_transform(model.predict(x_train))\n",
    "    test_preds = scaler.inverse_transform(model.predict(x_test))\n",
    "    merge_preds = []\n",
    "    \n",
    "    for data in train_preds:\n",
    "        merge_preds.append(data)\n",
    "    for data in test_preds:\n",
    "        merge_preds.append(data)\n",
    "    \n",
    "    rmse = get_rmse(merge_preds, trimOpenPriceData)\n",
    "    comp_index.append([epoch, rmse])\n",
    "\n"
   ]
  },
  {
   "cell_type": "code",
   "execution_count": 33,
   "metadata": {},
   "outputs": [
    {
     "name": "stdout",
     "output_type": "stream",
     "text": [
      "Epoch:  2\n",
      "RMSE:  [1.28521452]\n"
     ]
    }
   ],
   "source": [
    "best_index = np.array([])\n",
    "best_index = comp_index[0]\n",
    "for index in comp_index:\n",
    "    if best_index[1] > index[1]:\n",
    "        best_index = index\n",
    "\n",
    "print(\"Epoch: \", best_index[0])\n",
    "print(\"RMSE: \", best_index[1])"
   ]
  },
  {
   "cell_type": "code",
   "execution_count": 35,
   "metadata": {},
   "outputs": [
    {
     "data": {
      "text/plain": [
       "Text(0, 0.5, 'RMSE')"
      ]
     },
     "execution_count": 35,
     "metadata": {},
     "output_type": "execute_result"
    },
    {
     "data": {
      "image/png": "[encoded data removed]",
      "text/plain": [
       "<Figure size 432x288 with 1 Axes>"
      ]
     },
     "metadata": {
      "needs_background": "light"
     },
     "output_type": "display_data"
    }
   ],
   "source": [
    "#epoch is the implied x axis\n",
    "rmse_index = []\n",
    "for data in comp_index:\n",
    "    rmse_index.append(data[1])\n",
    "plt.plot(rmse_index)\n",
    "plt.title(\"RMSE vs Epoch\")\n",
    "plt.xlabel(\"Epoch\")\n",
    "plt.ylabel(\"RMSE\")"
   ]
  },
  {
   "cell_type": "markdown",
   "metadata": {},
   "source": [
    "There is an important case. A low epoch creates underfitting. A high epoch creates overfitting. The best epochs are seen at 1,9,20,33,36. Removing the lowest, one of the best epochs are 20,33, and 36. "
   ]
  },
  {
   "cell_type": "code",
   "execution_count": null,
   "metadata": {},
   "outputs": [],
   "source": [
    "#Since we have derived that window size 1 is considered best. \n",
    "#Since we have derived that 20,33,36 epochs are best, we can check their combiniation\n",
    "#Let us tune for the moving_window of somewhere with 25 layers\n",
    "EPOCH_MAX = [20,33,36]\n",
    "WINDOW_MAX = [1,2,3,4,5]\n",
    "comp_index = []\n",
    "for epoch in EPOCH_MAX:\n",
    "    for moving_window in WINDOW_MAX:\n",
    "        print(\"Epoch:\", epoch)\n",
    "        print(\"Window:\", moving_window)\n",
    "        x_train, y_train = create_dataset(train_data, moving_window)\n",
    "        x_test, y_test = create_dataset(test_data, moving_window)\n",
    "        x_train = numpy.reshape(x_train, (x_train.shape[0], 1, x_train.shape[1]))\n",
    "        x_test = numpy.reshape(x_test, (x_test.shape[0], 1, x_test.shape[1]))\n",
    "    \n",
    "        model = tune_model_moving_window(moving_window)\n",
    "        model.compile(loss='mean_squared_error', optimizer='adam')\n",
    "        model.fit(x_train, y_train, epochs=epoch, batch_size=1, verbose=2)\n",
    "\n",
    "        train_preds = scaler.inverse_transform(model.predict(x_train))\n",
    "        test_preds = scaler.inverse_transform(model.predict(x_test))\n",
    "        merge_preds = []\n",
    "    \n",
    "        for data in train_preds:\n",
    "            merge_preds.append(data)\n",
    "        for data in test_preds:\n",
    "            merge_preds.append(data)\n",
    "    \n",
    "        rmse = get_rmse(merge_preds, trimOpenPriceData)\n",
    "        comp_index.append([moving_window, epoch, rmse])\n",
    "\n"
   ]
  },
  {
   "cell_type": "code",
   "execution_count": 22,
   "metadata": {},
   "outputs": [
    {
     "name": "stdout",
     "output_type": "stream",
     "text": [
      "Epoch:  36\n",
      "Window:  2\n",
      "RMSE:  [1.64617627]\n"
     ]
    }
   ],
   "source": [
    "best_index = np.array([])\n",
    "best_index = comp_index[0]\n",
    "for index in comp_index:\n",
    "    if best_index[2] > index[2]:\n",
    "        best_index = index\n",
    "\n",
    "print(\"Epoch: \", best_index[1])\n",
    "print(\"Window: \", best_index[0])\n",
    "print(\"RMSE: \", best_index[2])"
   ]
  },
  {
   "cell_type": "markdown",
   "metadata": {},
   "source": [
    "Thus, with these given parameters, we have a better tuned LSTM models. Since there are hundreds of permutations, especially with deep learning, hypertuning is a time extensive process that will take a bulk of time for modeling. "
   ]
  }
 ],
 "metadata": {
  "kernelspec": {
   "display_name": "Python 3",
   "language": "python",
   "name": "python3"
  },
  "language_info": {
   "codemirror_mode": {
    "name": "ipython",
    "version": 3
   },
   "file_extension": ".py",
   "mimetype": "text/x-python",
   "name": "python",
   "nbconvert_exporter": "python",
   "pygments_lexer": "ipython3",
   "version": "3.7.4"
  }
 },
 "nbformat": 4,
 "nbformat_minor": 2
}
